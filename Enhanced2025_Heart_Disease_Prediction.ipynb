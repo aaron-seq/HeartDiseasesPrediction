{
  "nbformat": 4,
  "nbformat_minor": 0,
  "metadata": {
    "colab": {
      "provenance": [],
      "include_colab_link": true
    },
    "kernelspec": {
      "name": "python3",
      "display_name": "Python 3"
    },
    "language_info": {
      "name": "python"
    }
  },
  "cells": [
    {
      "cell_type": "markdown",
      "metadata": {
        "id": "view-in-github",
        "colab_type": "text"
      },
      "source": [
        "<a href=\"https://colab.research.google.com/github/aaronseq12/HeartDiseasesPrediction/blob/main/Enhanced2025_Heart_Disease_Prediction.ipynb\" target=\"_parent\"><img src=\"https://colab.research.google.com/assets/colab-badge.svg\" alt=\"Open In Colab\"/></a>"
      ]
    },
    {
      "cell_type": "code",
      "execution_count": null,
      "metadata": {
        "id": "ZUVss0if0gsV"
      },
      "outputs": [],
      "source": [
        "# Import necessary libraries\n",
        "import pandas as pd\n",
        "import numpy as np\n",
        "import matplotlib.pyplot as plt\n",
        "import seaborn as sns\n",
        "from sklearn.model_selection import train_test_split\n",
        "from sklearn.preprocessing import StandardScaler, OneHotEncoder\n",
        "from sklearn.compose import ColumnTransformer\n",
        "from sklearn.pipeline import Pipeline\n",
        "from sklearn.impute import SimpleImputer\n",
        "from tensorflow import keras\n",
        "from tensorflow.keras import layers\n",
        "from sklearn.metrics import classification_report, accuracy_score, roc_auc_score\n",
        "import shap"
      ]
    },
    {
      "cell_type": "code",
      "source": [
        "url = \"http://archive.ics.uci.edu/ml/machine-learning-databases/heart-disease/processed.cleveland.data\"\n",
        "names = ['age', 'sex', 'cp', 'trestbps', 'chol', 'fbs', 'restecg', 'thalach', 'exang', 'oldpeak', 'slope', 'ca', 'thal', 'class']\n",
        "data = pd.read_csv(url, names=names, na_values='?')"
      ],
      "metadata": {
        "id": "bUnN5e96071v"
      },
      "execution_count": null,
      "outputs": []
    },
    {
      "cell_type": "code",
      "source": [
        "# Preprocessing\n",
        "# Separate features and target\n",
        "X = data.drop('class', axis=1)\n",
        "y = data['class']"
      ],
      "metadata": {
        "id": "fkCr9cB30_z2"
      },
      "execution_count": null,
      "outputs": []
    },
    {
      "cell_type": "code",
      "source": [
        "# Binarize the target variable\n",
        "y_binary = y.copy()\n",
        "y_binary[y_binary > 0] = 1"
      ],
      "metadata": {
        "id": "hdOTzEOm1Dlr"
      },
      "execution_count": null,
      "outputs": []
    },
    {
      "cell_type": "code",
      "source": [
        "# Identify numeric and categorical features\n",
        "numeric_features = X.select_dtypes(include=np.number).columns.tolist()\n",
        "categorical_features = X.select_dtypes(exclude=np.number).columns.tolist()"
      ],
      "metadata": {
        "id": "WGOBk0_E1IaE"
      },
      "execution_count": null,
      "outputs": []
    },
    {
      "cell_type": "code",
      "source": [
        "# Create preprocessing pipelines\n",
        "numeric_pipeline = Pipeline([\n",
        "    ('imputer', SimpleImputer(strategy='median')),\n",
        "    ('scaler', StandardScaler())\n",
        "])"
      ],
      "metadata": {
        "id": "9eaRsGAH1PPu"
      },
      "execution_count": null,
      "outputs": []
    },
    {
      "cell_type": "code",
      "source": [
        "categorical_pipeline = Pipeline([\n",
        "    ('imputer', SimpleImputer(strategy='most_frequent')),\n",
        "    ('onehot', OneHotEncoder(handle_unknown='ignore'))\n",
        "])"
      ],
      "metadata": {
        "id": "8nxGSxjD1Rfr"
      },
      "execution_count": null,
      "outputs": []
    },
    {
      "cell_type": "code",
      "source": [
        "preprocessor = ColumnTransformer([\n",
        "    ('num', numeric_pipeline, numeric_features),\n",
        "    ('cat', categorical_pipeline, categorical_features)\n",
        "])"
      ],
      "metadata": {
        "id": "S6Uy6gM71Tu6"
      },
      "execution_count": null,
      "outputs": []
    },
    {
      "cell_type": "code",
      "source": [
        "# Split the data\n",
        "X_train, X_test, y_train, y_test, y_train_binary, y_test_binary = train_test_split(\n",
        "    X, y, y_binary, test_size=0.2, random_state=42, stratify=y_binary\n",
        ")"
      ],
      "metadata": {
        "id": "FIXeOUHp1Xvk"
      },
      "execution_count": null,
      "outputs": []
    },
    {
      "cell_type": "code",
      "source": [
        "# Apply the preprocessing pipelines\n",
        "X_train_processed = preprocessor.fit_transform(X_train)\n",
        "X_test_processed = preprocessor.transform(X_test)"
      ],
      "metadata": {
        "id": "Kerlj6LQ1cDl"
      },
      "execution_count": null,
      "outputs": []
    },
    {
      "cell_type": "code",
      "source": [
        "# Enhanced Neural Network Model for Binary Classification\n",
        "def create_enhanced_model(input_shape):\n",
        "    inputs = keras.Input(shape=input_shape)\n",
        "    x = layers.Dense(64, kernel_initializer='he_normal')(inputs)\n",
        "    x = layers.BatchNormalization()(x)\n",
        "    x = layers.Activation('relu')(x)\n",
        "    x = layers.Dropout(0.3)(x)\n",
        "    x = layers.Dense(32, kernel_initializer='he_normal')(x)\n",
        "    x = layers.BatchNormalization()(x)\n",
        "    x = layers.Activation('relu')(x)\n",
        "    x = layers.Dropout(0.3)(x)\n",
        "    outputs_binary = layers.Dense(1, activation='sigmoid', name='binary')(x)\n",
        "    model = keras.Model(inputs, outputs_binary)\n",
        "    return model"
      ],
      "metadata": {
        "id": "RrqUwBjK1ff6"
      },
      "execution_count": null,
      "outputs": []
    },
    {
      "cell_type": "code",
      "source": [
        "# Create and compile the model\n",
        "enhanced_model = create_enhanced_model((X_train_processed.shape[1],))\n",
        "enhanced_model.compile(optimizer='adam', loss='binary_crossentropy', metrics=['accuracy'])"
      ],
      "metadata": {
        "id": "OnNzlSyD1jjO"
      },
      "execution_count": null,
      "outputs": []
    },
    {
      "cell_type": "code",
      "source": [
        "# Train the model\n",
        "history = enhanced_model.fit(\n",
        "    X_train_processed, y_train_binary,\n",
        "    epochs=100,\n",
        "    batch_size=32,\n",
        "    validation_split=0.2,\n",
        "    verbose=0\n",
        ")"
      ],
      "metadata": {
        "id": "E0L-QVjo1270"
      },
      "execution_count": null,
      "outputs": []
    },
    {
      "cell_type": "code",
      "source": [
        "# Evaluate the model\n",
        "y_pred_binary = (enhanced_model.predict(X_test_processed) > 0.5).astype(\"int32\")"
      ],
      "metadata": {
        "id": "t6sUEP1Z1-1R"
      },
      "execution_count": null,
      "outputs": []
    },
    {
      "cell_type": "code",
      "source": [
        "print(\"### Enhanced Binary Classification Model Results ###\")\n",
        "print(\"Accuracy:\", accuracy_score(y_test_binary, y_pred_binary))\n",
        "print(\"ROC-AUC:\", roc_auc_score(y_test_binary, y_pred_binary))\n",
        "print(\"\\nClassification Report:\\n\", classification_report(y_test_binary, y_pred_binary))"
      ],
      "metadata": {
        "id": "-PoceYxz2Dxx"
      },
      "execution_count": null,
      "outputs": []
    },
    {
      "cell_type": "code",
      "source": [
        "# Explainable AI with SHAP\n",
        "explainer = shap.KernelExplainer(enhanced_model.predict, X_train_processed)\n",
        "shap_values = explainer.shap_values(X_test_processed)"
      ],
      "metadata": {
        "id": "BdQeffyW2IPu"
      },
      "execution_count": null,
      "outputs": []
    },
    {
      "cell_type": "code",
      "source": [
        "# Get feature names after one-hot encoding\n",
        "# Access the fitted one-hot encoder from the preprocessor\n",
        "ohe_feature_names = preprocessor.get_feature_names_out()\n",
        "all_feature_names = list(ohe_feature_names)"
      ],
      "metadata": {
        "id": "NJMUGEHe2T7W"
      },
      "execution_count": null,
      "outputs": []
    },
    {
      "cell_type": "code",
      "source": [
        "# SHAP Summary Plot\n",
        "shap.summary_plot(shap_values, X_test_processed, feature_names=all_feature_names)"
      ],
      "metadata": {
        "id": "MPxcAxkX_HUg"
      },
      "execution_count": null,
      "outputs": []
    },
    {
      "cell_type": "code",
      "source": [
        "# Correlation Matrix Heatmap\n",
        "plt.figure(figsize=(14, 10))\n",
        "sns.heatmap(data.corr(), annot=True, cmap='coolwarm', fmt=\".2f\")\n",
        "plt.title(\"Correlation Matrix of Features\")\n",
        "plt.show()"
      ],
      "metadata": {
        "id": "ptOUiaXy_ugo"
      },
      "execution_count": null,
      "outputs": []
    },
    {
      "cell_type": "code",
      "source": [
        "# Distribution of Continuous Features\n",
        "continuous_features = ['age', 'trestbps', 'chol', 'thalach', 'oldpeak']\n",
        "data[continuous_features].hist(figsize=(12, 10), bins=20, layout=(2, 3))\n",
        "plt.suptitle(\"Distribution of Continuous Features\")\n",
        "plt.show()"
      ],
      "metadata": {
        "id": "EJZtEa8-_06K"
      },
      "execution_count": null,
      "outputs": []
    },
    {
      "cell_type": "code",
      "source": [
        "# Count Plots for Categorical Features\n",
        "categorical_features = ['sex', 'cp', 'fbs', 'restecg', 'exang', 'slope', 'ca', 'thal']\n",
        "fig, axes = plt.subplots(nrows=4, ncols=2, figsize=(14, 20))\n",
        "for i, feature in enumerate(categorical_features):\n",
        "    sns.countplot(x=feature, hue='class', data=data, ax=axes[i//2, i%2])\n",
        "    axes[i//2, i%2].set_title(f'Distribution of {feature} by Heart Disease')\n",
        "plt.tight_layout()\n",
        "plt.show()"
      ],
      "metadata": {
        "id": "qpy5D4EgAAsU"
      },
      "execution_count": null,
      "outputs": []
    },
    {
      "cell_type": "code",
      "source": [
        "print(\"\\n### Model Evaluation ###\")\n",
        "# Training History Plot\n",
        "pd.DataFrame(history.history).plot(figsize=(8, 5))\n",
        "plt.grid(True)\n",
        "plt.gca().set_ylim(0, 1)\n",
        "plt.title(\"Model Training History\")\n",
        "plt.xlabel(\"Epoch\")\n",
        "plt.ylabel(\"Metric Value\")\n",
        "plt.show()"
      ],
      "metadata": {
        "id": "_uAIVmbFAKeg"
      },
      "execution_count": null,
      "outputs": []
    },
    {
      "cell_type": "code",
      "source": [
        "# Confusion Matrix\n",
        "from sklearn.metrics import confusion_matrix\n",
        "y_pred = (enhanced_model.predict(X_test_processed) > 0.5).astype(\"int32\")\n",
        "cm = confusion_matrix(y_test_binary, y_pred)\n",
        "sns.heatmap(cm, annot=True, fmt='d', cmap='Blues')\n",
        "plt.title(\"Confusion Matrix\")\n",
        "plt.xlabel(\"Predicted\")\n",
        "plt.ylabel(\"Actual\")\n",
        "plt.show()"
      ],
      "metadata": {
        "id": "i67Ea_-dAPSP"
      },
      "execution_count": null,
      "outputs": []
    },
    {
      "cell_type": "code",
      "source": [
        "# ROC Curve\n",
        "from sklearn.metrics import roc_curve\n",
        "fpr, tpr, _ = roc_curve(y_test_binary, enhanced_model.predict(X_test_processed))\n",
        "plt.plot(fpr, tpr, label=f\"AUC = {roc_auc_score(y_test_binary, y_pred):.2f}\")\n",
        "plt.plot([0, 1], [0, 1], 'k--')\n",
        "plt.title('ROC Curve')\n",
        "plt.xlabel('False Positive Rate')\n",
        "plt.ylabel('True Positive Rate')\n",
        "plt.legend(loc='lower right')\n",
        "plt.show()"
      ],
      "metadata": {
        "id": "IbUrBzhwAadd"
      },
      "execution_count": null,
      "outputs": []
    },
    {
      "cell_type": "code",
      "source": [
        "import ipywidgets as widgets\n",
        "from ipywidgets import interact\n",
        "\n",
        "def predict_heart_disease(age, sex, cp, trestbps, chol, fbs, restecg, thalach, exang, oldpeak, slope, ca, thal):\n",
        "    # Create a DataFrame from the inputs\n",
        "    input_data = pd.DataFrame({\n",
        "        'age': [age], 'sex': [sex], 'cp': [cp], 'trestbps': [trestbps], 'chol': [chol],\n",
        "        'fbs': [fbs], 'restecg': [restecg], 'thalach': [thalach], 'exang': [exang],\n",
        "        'oldpeak': [oldpeak], 'slope': [slope], 'ca': [ca], 'thal': [thal]\n",
        "    })\n",
        "\n",
        "    # Preprocess the input data\n",
        "    input_processed = preprocessor.transform(input_data)\n",
        "\n",
        "    # Make a prediction\n",
        "    prediction_proba = enhanced_model.predict(input_processed)[0][0]\n",
        "    prediction = (prediction_proba > 0.5).astype(int)\n",
        "\n",
        "    # Display the result\n",
        "    if prediction == 1:\n",
        "        print(f\"Prediction: Heart Disease (Probability: {prediction_proba:.2f})\")\n",
        "    else:\n",
        "        print(f\"Prediction: No Heart Disease (Probability: {1 - prediction_proba:.2f})\")\n",
        "\n",
        "# Create widgets for each feature\n",
        "age_widget = widgets.IntSlider(min=20, max=80, step=1, value=50, description='Age:')\n",
        "sex_widget = widgets.Dropdown(options=[('Male', 1), ('Female', 0)], value=1, description='Sex:')\n",
        "cp_widget = widgets.Dropdown(options=[('Typical Angina', 1), ('Atypical Angina', 2), ('Non-anginal Pain', 3), ('Asymptomatic', 4)], value=1, description='Chest Pain:')\n",
        "trestbps_widget = widgets.IntSlider(min=90, max=200, step=1, value=120, description='Resting BP:')\n",
        "chol_widget = widgets.IntSlider(min=100, max=600, step=1, value=200, description='Cholesterol:')\n",
        "fbs_widget = widgets.Dropdown(options=[('True', 1), ('False', 0)], value=0, description='Fasting BS > 120:')\n",
        "restecg_widget = widgets.Dropdown(options=[('Normal', 0), ('ST-T wave abnorm', 1), ('LV hypertrophy', 2)], value=0, description='Resting ECG:')\n",
        "thalach_widget = widgets.IntSlider(min=70, max=210, step=1, value=150, description='Max Heart Rate:')\n",
        "exang_widget = widgets.Dropdown(options=[('Yes', 1), ('No', 0)], value=0, description='Exercise Angina:')\n",
        "oldpeak_widget = widgets.FloatSlider(min=0, max=7, step=0.1, value=1, description='Oldpeak:')\n",
        "slope_widget = widgets.Dropdown(options=[('Upsloping', 1), ('Flat', 2), ('Downsloping', 3)], value=1, description='Slope:')\n",
        "ca_widget = widgets.Dropdown(options=[(0, 0), (1, 1), (2, 2), (3, 3)], value=0, description='Major Vessels:')\n",
        "thal_widget = widgets.Dropdown(options=[('Normal', 3), ('Fixed Defect', 6), ('Reversable Defect', 7)], value=3, description='Thal:')\n",
        "\n",
        "# Use interact to create the UI\n",
        "interact(predict_heart_disease, age=age_widget, sex=sex_widget, cp=cp_widget, trestbps=trestbps_widget,\n",
        "         chol=chol_widget, fbs=fbs_widget, restecg=restecg_widget, thalach=thalach_widget,\n",
        "         exang=exang_widget, oldpeak=oldpeak_widget, slope=slope_widget, ca=ca_widget, thal=thal_widget);"
      ],
      "metadata": {
        "id": "Vfvrh48eAkrP"
      },
      "execution_count": null,
      "outputs": []
    }
  ]
}
