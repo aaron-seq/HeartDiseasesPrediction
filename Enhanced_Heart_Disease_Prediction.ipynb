{
  "nbformat": 4,
  "nbformat_minor": 0,
  "metadata": {
    "colab": {
      "provenance": [],
      "authorship_tag": "ABX9TyM62tj+0fjU+jpV+4hywS1o",
      "include_colab_link": true
    },
    "kernelspec": {
      "name": "python3",
      "display_name": "Python 3"
    },
    "language_info": {
      "name": "python"
    },
    "widgets": {
      "application/vnd.jupyter.widget-state+json": {
        "4e072d20130f4d67bd3d210603ca7b7b": {
          "model_module": "@jupyter-widgets/controls",
          "model_name": "HBoxModel",
          "model_module_version": "1.5.0",
          "state": {
            "_dom_classes": [],
            "_model_module": "@jupyter-widgets/controls",
            "_model_module_version": "1.5.0",
            "_model_name": "HBoxModel",
            "_view_count": null,
            "_view_module": "@jupyter-widgets/controls",
            "_view_module_version": "1.5.0",
            "_view_name": "HBoxView",
            "box_style": "",
            "children": [
              "IPY_MODEL_643368bfbc314517a9e306505eb82456",
              "IPY_MODEL_23e89b4b6a6848b4a3db525c14487657",
              "IPY_MODEL_518bca0d0dfa4b08b12d23f907491735"
            ],
            "layout": "IPY_MODEL_ded91c18cfb44fe4a440ca36adc9ed76"
          }
        },
        "643368bfbc314517a9e306505eb82456": {
          "model_module": "@jupyter-widgets/controls",
          "model_name": "HTMLModel",
          "model_module_version": "1.5.0",
          "state": {
            "_dom_classes": [],
            "_model_module": "@jupyter-widgets/controls",
            "_model_module_version": "1.5.0",
            "_model_name": "HTMLModel",
            "_view_count": null,
            "_view_module": "@jupyter-widgets/controls",
            "_view_module_version": "1.5.0",
            "_view_name": "HTMLView",
            "description": "",
            "description_tooltip": null,
            "layout": "IPY_MODEL_ac321beb72a142e287dfc153fda42d5f",
            "placeholder": "​",
            "style": "IPY_MODEL_56fdce8f682043a790629f2674985a36",
            "value": "  3%"
          }
        },
        "23e89b4b6a6848b4a3db525c14487657": {
          "model_module": "@jupyter-widgets/controls",
          "model_name": "FloatProgressModel",
          "model_module_version": "1.5.0",
          "state": {
            "_dom_classes": [],
            "_model_module": "@jupyter-widgets/controls",
            "_model_module_version": "1.5.0",
            "_model_name": "FloatProgressModel",
            "_view_count": null,
            "_view_module": "@jupyter-widgets/controls",
            "_view_module_version": "1.5.0",
            "_view_name": "ProgressView",
            "bar_style": "",
            "description": "",
            "description_tooltip": null,
            "layout": "IPY_MODEL_b751d845a6934859b338a5adc081b3c0",
            "max": 61,
            "min": 0,
            "orientation": "horizontal",
            "style": "IPY_MODEL_000cc8c4693d4ddcb825fdd14dfcf2f7",
            "value": 2
          }
        },
        "518bca0d0dfa4b08b12d23f907491735": {
          "model_module": "@jupyter-widgets/controls",
          "model_name": "HTMLModel",
          "model_module_version": "1.5.0",
          "state": {
            "_dom_classes": [],
            "_model_module": "@jupyter-widgets/controls",
            "_model_module_version": "1.5.0",
            "_model_name": "HTMLModel",
            "_view_count": null,
            "_view_module": "@jupyter-widgets/controls",
            "_view_module_version": "1.5.0",
            "_view_name": "HTMLView",
            "description": "",
            "description_tooltip": null,
            "layout": "IPY_MODEL_179461f0f49641ce99b6dcc75608f4ae",
            "placeholder": "​",
            "style": "IPY_MODEL_5e7fac0e52684cd9a8f0a9fcf25b7110",
            "value": " 2/61 [00:59&lt;29:26, 29.95s/it]"
          }
        },
        "ded91c18cfb44fe4a440ca36adc9ed76": {
          "model_module": "@jupyter-widgets/base",
          "model_name": "LayoutModel",
          "model_module_version": "1.2.0",
          "state": {
            "_model_module": "@jupyter-widgets/base",
            "_model_module_version": "1.2.0",
            "_model_name": "LayoutModel",
            "_view_count": null,
            "_view_module": "@jupyter-widgets/base",
            "_view_module_version": "1.2.0",
            "_view_name": "LayoutView",
            "align_content": null,
            "align_items": null,
            "align_self": null,
            "border": null,
            "bottom": null,
            "display": null,
            "flex": null,
            "flex_flow": null,
            "grid_area": null,
            "grid_auto_columns": null,
            "grid_auto_flow": null,
            "grid_auto_rows": null,
            "grid_column": null,
            "grid_gap": null,
            "grid_row": null,
            "grid_template_areas": null,
            "grid_template_columns": null,
            "grid_template_rows": null,
            "height": null,
            "justify_content": null,
            "justify_items": null,
            "left": null,
            "margin": null,
            "max_height": null,
            "max_width": null,
            "min_height": null,
            "min_width": null,
            "object_fit": null,
            "object_position": null,
            "order": null,
            "overflow": null,
            "overflow_x": null,
            "overflow_y": null,
            "padding": null,
            "right": null,
            "top": null,
            "visibility": null,
            "width": null
          }
        },
        "ac321beb72a142e287dfc153fda42d5f": {
          "model_module": "@jupyter-widgets/base",
          "model_name": "LayoutModel",
          "model_module_version": "1.2.0",
          "state": {
            "_model_module": "@jupyter-widgets/base",
            "_model_module_version": "1.2.0",
            "_model_name": "LayoutModel",
            "_view_count": null,
            "_view_module": "@jupyter-widgets/base",
            "_view_module_version": "1.2.0",
            "_view_name": "LayoutView",
            "align_content": null,
            "align_items": null,
            "align_self": null,
            "border": null,
            "bottom": null,
            "display": null,
            "flex": null,
            "flex_flow": null,
            "grid_area": null,
            "grid_auto_columns": null,
            "grid_auto_flow": null,
            "grid_auto_rows": null,
            "grid_column": null,
            "grid_gap": null,
            "grid_row": null,
            "grid_template_areas": null,
            "grid_template_columns": null,
            "grid_template_rows": null,
            "height": null,
            "justify_content": null,
            "justify_items": null,
            "left": null,
            "margin": null,
            "max_height": null,
            "max_width": null,
            "min_height": null,
            "min_width": null,
            "object_fit": null,
            "object_position": null,
            "order": null,
            "overflow": null,
            "overflow_x": null,
            "overflow_y": null,
            "padding": null,
            "right": null,
            "top": null,
            "visibility": null,
            "width": null
          }
        },
        "56fdce8f682043a790629f2674985a36": {
          "model_module": "@jupyter-widgets/controls",
          "model_name": "DescriptionStyleModel",
          "model_module_version": "1.5.0",
          "state": {
            "_model_module": "@jupyter-widgets/controls",
            "_model_module_version": "1.5.0",
            "_model_name": "DescriptionStyleModel",
            "_view_count": null,
            "_view_module": "@jupyter-widgets/base",
            "_view_module_version": "1.2.0",
            "_view_name": "StyleView",
            "description_width": ""
          }
        },
        "b751d845a6934859b338a5adc081b3c0": {
          "model_module": "@jupyter-widgets/base",
          "model_name": "LayoutModel",
          "model_module_version": "1.2.0",
          "state": {
            "_model_module": "@jupyter-widgets/base",
            "_model_module_version": "1.2.0",
            "_model_name": "LayoutModel",
            "_view_count": null,
            "_view_module": "@jupyter-widgets/base",
            "_view_module_version": "1.2.0",
            "_view_name": "LayoutView",
            "align_content": null,
            "align_items": null,
            "align_self": null,
            "border": null,
            "bottom": null,
            "display": null,
            "flex": null,
            "flex_flow": null,
            "grid_area": null,
            "grid_auto_columns": null,
            "grid_auto_flow": null,
            "grid_auto_rows": null,
            "grid_column": null,
            "grid_gap": null,
            "grid_row": null,
            "grid_template_areas": null,
            "grid_template_columns": null,
            "grid_template_rows": null,
            "height": null,
            "justify_content": null,
            "justify_items": null,
            "left": null,
            "margin": null,
            "max_height": null,
            "max_width": null,
            "min_height": null,
            "min_width": null,
            "object_fit": null,
            "object_position": null,
            "order": null,
            "overflow": null,
            "overflow_x": null,
            "overflow_y": null,
            "padding": null,
            "right": null,
            "top": null,
            "visibility": null,
            "width": null
          }
        },
        "000cc8c4693d4ddcb825fdd14dfcf2f7": {
          "model_module": "@jupyter-widgets/controls",
          "model_name": "ProgressStyleModel",
          "model_module_version": "1.5.0",
          "state": {
            "_model_module": "@jupyter-widgets/controls",
            "_model_module_version": "1.5.0",
            "_model_name": "ProgressStyleModel",
            "_view_count": null,
            "_view_module": "@jupyter-widgets/base",
            "_view_module_version": "1.2.0",
            "_view_name": "StyleView",
            "bar_color": null,
            "description_width": ""
          }
        },
        "179461f0f49641ce99b6dcc75608f4ae": {
          "model_module": "@jupyter-widgets/base",
          "model_name": "LayoutModel",
          "model_module_version": "1.2.0",
          "state": {
            "_model_module": "@jupyter-widgets/base",
            "_model_module_version": "1.2.0",
            "_model_name": "LayoutModel",
            "_view_count": null,
            "_view_module": "@jupyter-widgets/base",
            "_view_module_version": "1.2.0",
            "_view_name": "LayoutView",
            "align_content": null,
            "align_items": null,
            "align_self": null,
            "border": null,
            "bottom": null,
            "display": null,
            "flex": null,
            "flex_flow": null,
            "grid_area": null,
            "grid_auto_columns": null,
            "grid_auto_flow": null,
            "grid_auto_rows": null,
            "grid_column": null,
            "grid_gap": null,
            "grid_row": null,
            "grid_template_areas": null,
            "grid_template_columns": null,
            "grid_template_rows": null,
            "height": null,
            "justify_content": null,
            "justify_items": null,
            "left": null,
            "margin": null,
            "max_height": null,
            "max_width": null,
            "min_height": null,
            "min_width": null,
            "object_fit": null,
            "object_position": null,
            "order": null,
            "overflow": null,
            "overflow_x": null,
            "overflow_y": null,
            "padding": null,
            "right": null,
            "top": null,
            "visibility": null,
            "width": null
          }
        },
        "5e7fac0e52684cd9a8f0a9fcf25b7110": {
          "model_module": "@jupyter-widgets/controls",
          "model_name": "DescriptionStyleModel",
          "model_module_version": "1.5.0",
          "state": {
            "_model_module": "@jupyter-widgets/controls",
            "_model_module_version": "1.5.0",
            "_model_name": "DescriptionStyleModel",
            "_view_count": null,
            "_view_module": "@jupyter-widgets/base",
            "_view_module_version": "1.2.0",
            "_view_name": "StyleView",
            "description_width": ""
          }
        }
      }
    }
  },
  "cells": [
    {
      "cell_type": "markdown",
      "metadata": {
        "id": "view-in-github",
        "colab_type": "text"
      },
      "source": [
        "<a href=\"https://colab.research.google.com/github/aaronseq12/HeartDiseasesPrediction/blob/main/Enhanced_Heart_Disease_Prediction.ipynb\" target=\"_parent\"><img src=\"https://colab.research.google.com/assets/colab-badge.svg\" alt=\"Open In Colab\"/></a>"
      ]
    },
    {
      "cell_type": "code",
      "execution_count": 37,
      "metadata": {
        "id": "ZUVss0if0gsV"
      },
      "outputs": [],
      "source": [
        "# Import necessary libraries\n",
        "import pandas as pd\n",
        "import numpy as np\n",
        "import matplotlib.pyplot as plt\n",
        "import seaborn as sns\n",
        "from sklearn.model_selection import train_test_split\n",
        "from sklearn.preprocessing import StandardScaler, OneHotEncoder\n",
        "from sklearn.compose import ColumnTransformer\n",
        "from sklearn.pipeline import Pipeline\n",
        "from sklearn.impute import SimpleImputer\n",
        "from tensorflow import keras\n",
        "from tensorflow.keras import layers\n",
        "from sklearn.metrics import classification_report, accuracy_score, roc_auc_score\n",
        "import shap"
      ]
    },
    {
      "cell_type": "code",
      "source": [
        "url = \"http://archive.ics.uci.edu/ml/machine-learning-databases/heart-disease/processed.cleveland.data\"\n",
        "names = ['age', 'sex', 'cp', 'trestbps', 'chol', 'fbs', 'restecg', 'thalach', 'exang', 'oldpeak', 'slope', 'ca', 'thal', 'class']\n",
        "data = pd.read_csv(url, names=names, na_values='?')"
      ],
      "metadata": {
        "id": "bUnN5e96071v"
      },
      "execution_count": 38,
      "outputs": []
    },
    {
      "cell_type": "code",
      "source": [
        "# Preprocessing\n",
        "# Separate features and target\n",
        "X = data.drop('class', axis=1)\n",
        "y = data['class']"
      ],
      "metadata": {
        "id": "fkCr9cB30_z2"
      },
      "execution_count": 39,
      "outputs": []
    },
    {
      "cell_type": "code",
      "source": [
        "# Binarize the target variable\n",
        "y_binary = y.copy()\n",
        "y_binary[y_binary > 0] = 1"
      ],
      "metadata": {
        "id": "hdOTzEOm1Dlr"
      },
      "execution_count": 40,
      "outputs": []
    },
    {
      "cell_type": "code",
      "source": [
        "# Identify numeric and categorical features\n",
        "numeric_features = X.select_dtypes(include=np.number).columns.tolist()\n",
        "categorical_features = X.select_dtypes(exclude=np.number).columns.tolist()"
      ],
      "metadata": {
        "id": "WGOBk0_E1IaE"
      },
      "execution_count": 41,
      "outputs": []
    },
    {
      "cell_type": "code",
      "source": [
        "# Create preprocessing pipelines\n",
        "numeric_pipeline = Pipeline([\n",
        "    ('imputer', SimpleImputer(strategy='median')),\n",
        "    ('scaler', StandardScaler())\n",
        "])"
      ],
      "metadata": {
        "id": "9eaRsGAH1PPu"
      },
      "execution_count": 42,
      "outputs": []
    },
    {
      "cell_type": "code",
      "source": [
        "categorical_pipeline = Pipeline([\n",
        "    ('imputer', SimpleImputer(strategy='most_frequent')),\n",
        "    ('onehot', OneHotEncoder(handle_unknown='ignore'))\n",
        "])"
      ],
      "metadata": {
        "id": "8nxGSxjD1Rfr"
      },
      "execution_count": 43,
      "outputs": []
    },
    {
      "cell_type": "code",
      "source": [
        "preprocessor = ColumnTransformer([\n",
        "    ('num', numeric_pipeline, numeric_features),\n",
        "    ('cat', categorical_pipeline, categorical_features)\n",
        "])"
      ],
      "metadata": {
        "id": "S6Uy6gM71Tu6"
      },
      "execution_count": 44,
      "outputs": []
    },
    {
      "cell_type": "code",
      "source": [
        "# Split the data\n",
        "X_train, X_test, y_train, y_test, y_train_binary, y_test_binary = train_test_split(\n",
        "    X, y, y_binary, test_size=0.2, random_state=42, stratify=y_binary\n",
        ")"
      ],
      "metadata": {
        "id": "FIXeOUHp1Xvk"
      },
      "execution_count": 45,
      "outputs": []
    },
    {
      "cell_type": "code",
      "source": [
        "# Apply the preprocessing pipelines\n",
        "X_train_processed = preprocessor.fit_transform(X_train)\n",
        "X_test_processed = preprocessor.transform(X_test)"
      ],
      "metadata": {
        "id": "Kerlj6LQ1cDl"
      },
      "execution_count": 46,
      "outputs": []
    },
    {
      "cell_type": "code",
      "source": [
        "# Enhanced Neural Network Model for Binary Classification\n",
        "def create_enhanced_model(input_shape):\n",
        "    inputs = keras.Input(shape=input_shape)\n",
        "    x = layers.Dense(64, kernel_initializer='he_normal')(inputs)\n",
        "    x = layers.BatchNormalization()(x)\n",
        "    x = layers.Activation('relu')(x)\n",
        "    x = layers.Dropout(0.3)(x)\n",
        "    x = layers.Dense(32, kernel_initializer='he_normal')(x)\n",
        "    x = layers.BatchNormalization()(x)\n",
        "    x = layers.Activation('relu')(x)\n",
        "    x = layers.Dropout(0.3)(x)\n",
        "    outputs_binary = layers.Dense(1, activation='sigmoid', name='binary')(x)\n",
        "    model = keras.Model(inputs, outputs_binary)\n",
        "    return model"
      ],
      "metadata": {
        "id": "RrqUwBjK1ff6"
      },
      "execution_count": 47,
      "outputs": []
    },
    {
      "cell_type": "code",
      "source": [
        "# Create and compile the model\n",
        "enhanced_model = create_enhanced_model((X_train_processed.shape[1],))\n",
        "enhanced_model.compile(optimizer='adam', loss='binary_crossentropy', metrics=['accuracy'])"
      ],
      "metadata": {
        "id": "OnNzlSyD1jjO"
      },
      "execution_count": 48,
      "outputs": []
    },
    {
      "cell_type": "code",
      "source": [
        "# Train the model\n",
        "history = enhanced_model.fit(\n",
        "    X_train_processed, y_train_binary,\n",
        "    epochs=100,\n",
        "    batch_size=32,\n",
        "    validation_split=0.2,\n",
        "    verbose=0\n",
        ")"
      ],
      "metadata": {
        "id": "E0L-QVjo1270"
      },
      "execution_count": 49,
      "outputs": []
    },
    {
      "cell_type": "code",
      "source": [
        "# Evaluate the model\n",
        "y_pred_binary = (enhanced_model.predict(X_test_processed) > 0.5).astype(\"int32\")"
      ],
      "metadata": {
        "colab": {
          "base_uri": "https://localhost:8080/"
        },
        "id": "t6sUEP1Z1-1R",
        "outputId": "fe2053a3-b69a-42b2-d834-8a836f25ecba"
      },
      "execution_count": 50,
      "outputs": [
        {
          "output_type": "stream",
          "name": "stdout",
          "text": [
            "\u001b[1m2/2\u001b[0m \u001b[32m━━━━━━━━━━━━━━━━━━━━\u001b[0m\u001b[37m\u001b[0m \u001b[1m0s\u001b[0m 105ms/step\n"
          ]
        }
      ]
    },
    {
      "cell_type": "code",
      "source": [
        "print(\"### Enhanced Binary Classification Model Results ###\")\n",
        "print(\"Accuracy:\", accuracy_score(y_test_binary, y_pred_binary))\n",
        "print(\"ROC-AUC:\", roc_auc_score(y_test_binary, y_pred_binary))\n",
        "print(\"\\nClassification Report:\\n\", classification_report(y_test_binary, y_pred_binary))"
      ],
      "metadata": {
        "colab": {
          "base_uri": "https://localhost:8080/"
        },
        "id": "-PoceYxz2Dxx",
        "outputId": "bd000e06-f8d1-4376-aa73-f3b6a3b4fc04"
      },
      "execution_count": 51,
      "outputs": [
        {
          "output_type": "stream",
          "name": "stdout",
          "text": [
            "### Enhanced Binary Classification Model Results ###\n",
            "Accuracy: 0.8360655737704918\n",
            "ROC-AUC: 0.8403679653679653\n",
            "\n",
            "Classification Report:\n",
            "               precision    recall  f1-score   support\n",
            "\n",
            "           0       0.90      0.79      0.84        33\n",
            "           1       0.78      0.89      0.83        28\n",
            "\n",
            "    accuracy                           0.84        61\n",
            "   macro avg       0.84      0.84      0.84        61\n",
            "weighted avg       0.84      0.84      0.84        61\n",
            "\n"
          ]
        }
      ]
    },
    {
      "cell_type": "code",
      "source": [
        "# Explainable AI with SHAP\n",
        "explainer = shap.KernelExplainer(enhanced_model.predict, X_train_processed)\n",
        "shap_values = explainer.shap_values(X_test_processed)\n"
      ],
      "metadata": {
        "colab": {
          "base_uri": "https://localhost:8080/",
          "height": 194,
          "referenced_widgets": [
            "4e072d20130f4d67bd3d210603ca7b7b",
            "643368bfbc314517a9e306505eb82456",
            "23e89b4b6a6848b4a3db525c14487657",
            "518bca0d0dfa4b08b12d23f907491735",
            "ded91c18cfb44fe4a440ca36adc9ed76",
            "ac321beb72a142e287dfc153fda42d5f",
            "56fdce8f682043a790629f2674985a36",
            "b751d845a6934859b338a5adc081b3c0",
            "000cc8c4693d4ddcb825fdd14dfcf2f7",
            "179461f0f49641ce99b6dcc75608f4ae",
            "5e7fac0e52684cd9a8f0a9fcf25b7110"
          ]
        },
        "id": "BdQeffyW2IPu",
        "outputId": "73502d9a-ed32-4cd5-f226-e2f0174e16ba"
      },
      "execution_count": null,
      "outputs": [
        {
          "output_type": "stream",
          "name": "stdout",
          "text": [
            "\u001b[1m8/8\u001b[0m \u001b[32m━━━━━━━━━━━━━━━━━━━━\u001b[0m\u001b[37m\u001b[0m \u001b[1m0s\u001b[0m 4ms/step \n"
          ]
        },
        {
          "output_type": "stream",
          "name": "stderr",
          "text": [
            "WARNING:shap:Using 242 background data samples could cause slower run times. Consider using shap.sample(data, K) or shap.kmeans(data, K) to summarize the background as K samples.\n"
          ]
        },
        {
          "output_type": "display_data",
          "data": {
            "text/plain": [
              "  0%|          | 0/61 [00:00<?, ?it/s]"
            ],
            "application/vnd.jupyter.widget-view+json": {
              "version_major": 2,
              "version_minor": 0,
              "model_id": "4e072d20130f4d67bd3d210603ca7b7b"
            }
          },
          "metadata": {}
        },
        {
          "output_type": "stream",
          "name": "stdout",
          "text": [
            "\u001b[1m1/1\u001b[0m \u001b[32m━━━━━━━━━━━━━━━━━━━━\u001b[0m\u001b[37m\u001b[0m \u001b[1m0s\u001b[0m 41ms/step\n",
            "\u001b[1m15685/15685\u001b[0m \u001b[32m━━━━━━━━━━━━━━━━━━━━\u001b[0m\u001b[37m\u001b[0m \u001b[1m22s\u001b[0m 1ms/step\n",
            "\u001b[1m1/1\u001b[0m \u001b[32m━━━━━━━━━━━━━━━━━━━━\u001b[0m\u001b[37m\u001b[0m \u001b[1m0s\u001b[0m 40ms/step\n",
            "\u001b[1m15685/15685\u001b[0m \u001b[32m━━━━━━━━━━━━━━━━━━━━\u001b[0m\u001b[37m\u001b[0m \u001b[1m21s\u001b[0m 1ms/step\n",
            "\u001b[1m1/1\u001b[0m \u001b[32m━━━━━━━━━━━━━━━━━━━━\u001b[0m\u001b[37m\u001b[0m \u001b[1m0s\u001b[0m 37ms/step\n",
            "\u001b[1m15685/15685\u001b[0m \u001b[32m━━━━━━━━━━━━━━━━━━━━\u001b[0m\u001b[37m\u001b[0m \u001b[1m28s\u001b[0m 2ms/step\n"
          ]
        }
      ]
    },
    {
      "cell_type": "code",
      "source": [
        "# Get feature names after one-hot encoding\n",
        "# Access the fitted one-hot encoder from the preprocessor\n",
        "ohe_feature_names = preprocessor.get_feature_names_out()\n",
        "all_feature_names = list(ohe_feature_names)"
      ],
      "metadata": {
        "id": "NJMUGEHe2T7W"
      },
      "execution_count": null,
      "outputs": []
    },
    {
      "cell_type": "code",
      "source": [
        "# SHAP Summary Plot\n",
        "shap.summary_plot(shap_values, X_test_processed, feature_names=all_feature_names)"
      ],
      "metadata": {
        "id": "MPxcAxkX_HUg"
      },
      "execution_count": null,
      "outputs": []
    },
    {
      "cell_type": "code",
      "source": [
        "# Correlation Matrix Heatmap\n",
        "plt.figure(figsize=(14, 10))\n",
        "sns.heatmap(data.corr(), annot=True, cmap='coolwarm', fmt=\".2f\")\n",
        "plt.title(\"Correlation Matrix of Features\")\n",
        "plt.show()"
      ],
      "metadata": {
        "id": "ptOUiaXy_ugo"
      },
      "execution_count": null,
      "outputs": []
    },
    {
      "cell_type": "code",
      "source": [
        "# Distribution of Continuous Features\n",
        "continuous_features = ['age', 'trestbps', 'chol', 'thalach', 'oldpeak']\n",
        "data[continuous_features].hist(figsize=(12, 10), bins=20, layout=(2, 3))\n",
        "plt.suptitle(\"Distribution of Continuous Features\")\n",
        "plt.show()"
      ],
      "metadata": {
        "id": "EJZtEa8-_06K"
      },
      "execution_count": null,
      "outputs": []
    },
    {
      "cell_type": "code",
      "source": [
        "# Count Plots for Categorical Features\n",
        "categorical_features = ['sex', 'cp', 'fbs', 'restecg', 'exang', 'slope', 'ca', 'thal']\n",
        "fig, axes = plt.subplots(nrows=4, ncols=2, figsize=(14, 20))\n",
        "for i, feature in enumerate(categorical_features):\n",
        "    sns.countplot(x=feature, hue='class', data=data, ax=axes[i//2, i%2])\n",
        "    axes[i//2, i%2].set_title(f'Distribution of {feature} by Heart Disease')\n",
        "plt.tight_layout()\n",
        "plt.show()"
      ],
      "metadata": {
        "id": "qpy5D4EgAAsU"
      },
      "execution_count": null,
      "outputs": []
    },
    {
      "cell_type": "code",
      "source": [
        "print(\"\\n### Model Evaluation ###\")\n",
        "# Training History Plot\n",
        "pd.DataFrame(history.history).plot(figsize=(8, 5))\n",
        "plt.grid(True)\n",
        "plt.gca().set_ylim(0, 1)\n",
        "plt.title(\"Model Training History\")\n",
        "plt.xlabel(\"Epoch\")\n",
        "plt.ylabel(\"Metric Value\")\n",
        "plt.show()"
      ],
      "metadata": {
        "id": "_uAIVmbFAKeg"
      },
      "execution_count": null,
      "outputs": []
    },
    {
      "cell_type": "code",
      "source": [
        "# Confusion Matrix\n",
        "from sklearn.metrics import confusion_matrix\n",
        "y_pred = (enhanced_model.predict(X_test_processed) > 0.5).astype(\"int32\")\n",
        "cm = confusion_matrix(y_test_binary, y_pred)\n",
        "sns.heatmap(cm, annot=True, fmt='d', cmap='Blues')\n",
        "plt.title(\"Confusion Matrix\")\n",
        "plt.xlabel(\"Predicted\")\n",
        "plt.ylabel(\"Actual\")\n",
        "plt.show()"
      ],
      "metadata": {
        "id": "i67Ea_-dAPSP"
      },
      "execution_count": null,
      "outputs": []
    },
    {
      "cell_type": "code",
      "source": [
        "# ROC Curve\n",
        "from sklearn.metrics import roc_curve\n",
        "fpr, tpr, _ = roc_curve(y_test_binary, enhanced_model.predict(X_test_processed))\n",
        "plt.plot(fpr, tpr, label=f\"AUC = {roc_auc_score(y_test_binary, y_pred):.2f}\")\n",
        "plt.plot([0, 1], [0, 1], 'k--')\n",
        "plt.title('ROC Curve')\n",
        "plt.xlabel('False Positive Rate')\n",
        "plt.ylabel('True Positive Rate')\n",
        "plt.legend(loc='lower right')\n",
        "plt.show()"
      ],
      "metadata": {
        "id": "IbUrBzhwAadd"
      },
      "execution_count": null,
      "outputs": []
    },
    {
      "cell_type": "code",
      "source": [
        "'''import ipywidgets as widgets\n",
        "from ipywidgets import interact\n",
        "\n",
        "def predict_heart_disease(age, sex, cp, trestbps, chol, fbs, restecg, thalach, exang, oldpeak, slope, ca, thal):\n",
        "    # Create a DataFrame from the inputs\n",
        "    input_data = pd.DataFrame({\n",
        "        'age': [age], 'sex': [sex], 'cp': [cp], 'trestbps': [trestbps], 'chol': [chol],\n",
        "        'fbs': [fbs], 'restecg': [restecg], 'thalach': [thalach], 'exang': [exang],\n",
        "        'oldpeak': [oldpeak], 'slope': [slope], 'ca': [ca], 'thal': [thal]\n",
        "    })\n",
        "\n",
        "    # Preprocess the input data\n",
        "    input_processed = preprocessor.transform(input_data)\n",
        "\n",
        "    # Make a prediction\n",
        "    prediction_proba = enhanced_model.predict(input_processed)[0][0]\n",
        "    prediction = (prediction_proba > 0.5).astype(int)\n",
        "\n",
        "    # Display the result\n",
        "    if prediction == 1:\n",
        "        print(f\"Prediction: Heart Disease (Probability: {prediction_proba:.2f})\")\n",
        "    else:\n",
        "        print(f\"Prediction: No Heart Disease (Probability: {1 - prediction_proba:.2f})\")\n",
        "\n",
        "# Create widgets for each feature\n",
        "age_widget = widgets.IntSlider(min=20, max=80, step=1, value=50, description='Age:')\n",
        "sex_widget = widgets.Dropdown(options=[('Male', 1), ('Female', 0)], value=1, description='Sex:')\n",
        "cp_widget = widgets.Dropdown(options=[('Typical Angina', 1), ('Atypical Angina', 2), ('Non-anginal Pain', 3), ('Asymptomatic', 4)], value=1, description='Chest Pain:')\n",
        "trestbps_widget = widgets.IntSlider(min=90, max=200, step=1, value=120, description='Resting BP:')\n",
        "chol_widget = widgets.IntSlider(min=100, max=600, step=1, value=200, description='Cholesterol:')\n",
        "fbs_widget = widgets.Dropdown(options=[('True', 1), ('False', 0)], value=0, description='Fasting BS > 120:')\n",
        "restecg_widget = widgets.Dropdown(options=[('Normal', 0), ('ST-T wave abnorm', 1), ('LV hypertrophy', 2)], value=0, description='Resting ECG:')\n",
        "thalach_widget = widgets.IntSlider(min=70, max=210, step=1, value=150, description='Max Heart Rate:')\n",
        "exang_widget = widgets.Dropdown(options=[('Yes', 1), ('No', 0)], value=0, description='Exercise Angina:')\n",
        "oldpeak_widget = widgets.FloatSlider(min=0, max=7, step=0.1, value=1, description='Oldpeak:')\n",
        "slope_widget = widgets.Dropdown(options=[('Upsloping', 1), ('Flat', 2), ('Downsloping', 3)], value=1, description='Slope:')\n",
        "ca_widget = widgets.Dropdown(options=[(0, 0), (1, 1), (2, 2), (3, 3)], value=0, description='Major Vessels:')\n",
        "thal_widget = widgets.Dropdown(options=[('Normal', 3), ('Fixed Defect', 6), ('Reversable Defect', 7)], value=3, description='Thal:')\n",
        "\n",
        "# Use interact to create the UI\n",
        "interact(predict_heart_disease, age=age_widget, sex=sex_widget, cp=cp_widget, trestbps=trestbps_widget,\n",
        "         chol=chol_widget, fbs=fbs_widget, restecg=restecg_widget, thalach=thalach_widget,\n",
        "         exang=exang_widget, oldpeak=oldpeak_widget, slope=slope_widget, ca=ca_widget, thal=thal_widget);'''"
      ],
      "metadata": {
        "id": "Vfvrh48eAkrP"
      },
      "execution_count": null,
      "outputs": []
    }
  ]
}